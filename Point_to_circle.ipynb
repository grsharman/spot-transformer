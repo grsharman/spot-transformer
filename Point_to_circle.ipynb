{
 "cells": [
  {
   "cell_type": "markdown",
   "id": "82132632-1d5c-492c-8690-57d5dbda1731",
   "metadata": {},
   "source": [
    "### Convert GeoJSON point x,y coordinates to circles for use in petro-image\n",
    "##### By Glenn R. Sharman for use by the Clastic Stratigraphy Research Group, University of Arkansas\n",
    "##### Updated May  9, 2025"
   ]
  },
  {
   "cell_type": "code",
   "execution_count": null,
   "id": "2c78be11-e5af-4ba9-88c0-a31caff11926",
   "metadata": {},
   "outputs": [],
   "source": [
    "# Import required modules\n",
    "import numpy as np\n",
    "import matplotlib.pyplot as plt\n",
    "import json\n",
    "import pandas as pd\n",
    "from PIL import Image\n",
    "import transformFuncs as tFunc"
   ]
  },
  {
   "cell_type": "code",
   "execution_count": null,
   "id": "dce57a60-8785-4099-9706-73c067b0728e",
   "metadata": {},
   "outputs": [],
   "source": [
    "# The geojson with image coordinates of selected spots\n",
    "input_geojson = 'example-data/FSW24-01_zr_sticky.geojson'\n",
    "\n",
    "output_geojson = 'outputs/FWS24-01_zr_sticky_circles.geojson'\n",
    "\n",
    "# The file path to the image you want to place circles on\n",
    "input_image = 'example-data/FWS24-01 5x Zr sticky tape mount.jpg'\n",
    "\n",
    "# The output file path for the image with circles on it\n",
    "output_image = 'outputs/FWS24-01_zr_sticky tape mount points to circles.jpg'\n",
    "\n",
    "# Output image resolution\n",
    "dpi = 300\n",
    "\n",
    "# Diameter of the circle you want to plot, in microns\n",
    "diameter_um = 20\n",
    "num_vertices = 25  # number of points around the circle\n",
    "\n",
    "circle_color = '#000000'\n",
    "circle_opacity = 0"
   ]
  },
  {
   "cell_type": "markdown",
   "id": "65f85797-0d30-4336-ae50-ffea00b71719",
   "metadata": {},
   "source": [
    "##### Execute the code"
   ]
  },
  {
   "cell_type": "code",
   "execution_count": null,
   "id": "964b806e-786e-4875-8e65-3a7be8a5580e",
   "metadata": {},
   "outputs": [],
   "source": [
    "# Open and load the GeoJSON file\n",
    "with open(input_geojson, 'r') as file:\n",
    "    data = json.load(file)  # Parses JSON into a Python dictionary\n",
    "df = pd.DataFrame(data['features'])\n",
    "\n",
    "# Load x and y coordinates and labels into lists\n",
    "x_px = []\n",
    "y_px = []\n",
    "labels = []\n",
    "for i in range(len(df)):\n",
    "    x_px.append(df.iloc[i]['geometry']['coordinates'][0])\n",
    "    y_px.append(df.iloc[i]['geometry']['coordinates'][1])\n",
    "    labels.append(df.iloc[i]['properties']['label'])\n",
    "\n",
    "# Prepare GeoJSON structure\n",
    "geojson = {\n",
    "    \"type\": \"FeatureCollection\",\n",
    "    \"features\": []  # Initialize as an empty list to store features\n",
    "}\n",
    "\n",
    "# Note: The properties of the first annotation in the input GeoJSON will be mimicked\n",
    "pixels_per_meter = df.iloc[0]['properties']['pixelsPerMeter']\n",
    "r = diameter_um/2 * pixels_per_meter / 1e6\n",
    "\n",
    "# Export a GeoJSON with the results\n",
    "for i in range(len(x_px)):\n",
    "    # x,y coordinates of the circle\n",
    "    angles = np.linspace(0, 2 * np.pi, num_vertices + 1)\n",
    "    x_coords = x_px[i] + r * np.cos(angles)\n",
    "    y_coords = y_px[i] + r * np.sin(angles)\n",
    "\n",
    "    feature = {\n",
    "                    \"type\": \"Feature\",\n",
    "                    \"geometry\": {\n",
    "                        \"type\": 'Polygon',\n",
    "                        \"coordinates\": list([list(zip(x_coords, y_coords))]) # coordinates_array  # Should wrap in an extra list for GeoJSON Polygon\n",
    "                    },\n",
    "                    \"properties\": {\n",
    "                        \"uuid\": tFunc.generate_unique_id(16),\n",
    "                        \"label\": '', # Make an empty label\n",
    "                        #\"label\": df.iloc[i]['properties']['label'], # Use the existing label\n",
    "                        \"xLabel\": x_px[i],\n",
    "                        \"yLabel\": y_px[i],\n",
    "                        \"imageTitle\": df.iloc[0]['properties']['imageTitle'],\n",
    "                        \"pixelsPerMeter\": pixels_per_meter,\n",
    "                        \"imageWidth\": df.iloc[0]['properties']['imageWidth'],\n",
    "                        \"imageHeight\": df.iloc[0]['properties']['imageHeight'],\n",
    "                        \"labelFontSize\": df.iloc[0]['properties']['labelFontSize'],\n",
    "                        \"labelFontColor\": df.iloc[0]['properties']['labelFontColor'],\n",
    "                        \"labelBackgroundColor\": df.iloc[0]['properties']['labelBackgroundColor'],\n",
    "                        \"labelBackgroundOpacity\": df.iloc[0]['properties']['labelBackgroundOpacity'],\n",
    "                        \"lineWeight\": df.iloc[0]['properties']['lineWeight'],\n",
    "                        \"lineColor\": df.iloc[0]['properties']['lineColor'],\n",
    "                        \"lineOpacity\": df.iloc[0]['properties']['lineOpacity'],\n",
    "                        \"fillColor\": circle_color,\n",
    "                        \"fillOpacity\": circle_opacity\n",
    "                    }\n",
    "                }\n",
    "    geojson[\"features\"].append(feature)\n",
    "with open(output_geojson, \"w\") as geojson_file:\n",
    "    json.dump(geojson, geojson_file, indent=2)"
   ]
  },
  {
   "cell_type": "code",
   "execution_count": null,
   "id": "36ee9473-47f8-42dc-b0fb-36a24a517b76",
   "metadata": {},
   "outputs": [],
   "source": [
    "# Open and load the image\n",
    "Image.MAX_IMAGE_PIXELS = 2000000000 # To avoid errors that the files are too large\n",
    "image = Image.open(input_image)\n",
    "\n",
    "# Make and export the figure\n",
    "fig, ax = plt.subplots(1, figsize=(image.size[0]/dpi,image.size\n",
    "[1]/dpi))\n",
    "\n",
    "for i in range(len(geojson['features'])):\n",
    "    coordinates = geojson['features'][i]['geometry']['coordinates']\n",
    "    ax.plot(np.array(coordinates)[0][:,0], np.array(coordinates)[0][:,1], '-', color='red')\n",
    "    #ax.text(x=C_transformed[i][0]+adjust_px, y=C_transformed[i][1]-adjust_px, s=labels[i], fontsize='medium', color='red',)\n",
    "ax.imshow(image, cmap='Greys_r')\n",
    "#ax.legend()\n",
    "plt.axis('off')\n",
    "\n",
    "fig.savefig(output_image, dpi=dpi)"
   ]
  },
  {
   "cell_type": "code",
   "execution_count": null,
   "id": "cbea9e2b-5f0f-4c62-9b37-04ec30563f2d",
   "metadata": {},
   "outputs": [],
   "source": []
  }
 ],
 "metadata": {
  "kernelspec": {
   "display_name": "Python 3 (ipykernel)",
   "language": "python",
   "name": "python3"
  },
  "language_info": {
   "codemirror_mode": {
    "name": "ipython",
    "version": 3
   },
   "file_extension": ".py",
   "mimetype": "text/x-python",
   "name": "python",
   "nbconvert_exporter": "python",
   "pygments_lexer": "ipython3",
   "version": "3.10.9"
  }
 },
 "nbformat": 4,
 "nbformat_minor": 5
}
